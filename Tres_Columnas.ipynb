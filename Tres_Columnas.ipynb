{
 "cells": [
  {
   "cell_type": "code",
   "execution_count": 1,
   "id": "d5328cc8-ea4b-4b0c-8d22-144e59ca7541",
   "metadata": {},
   "outputs": [],
   "source": [
    "import numpy as np\n",
    "import pandas as pd\n",
    "import seaborn as sns"
   ]
  },
  {
   "cell_type": "markdown",
   "id": "5e2ff3c7-896f-48f3-b532-bc91237a58f7",
   "metadata": {},
   "source": [
    "Hagamos otras funciones que pueden ser útiles:"
   ]
  },
  {
   "cell_type": "code",
   "execution_count": 2,
   "id": "f340053a-b473-44a0-ac37-2e7a841dde84",
   "metadata": {},
   "outputs": [],
   "source": [
    "def tres_columnas(variable_1,variable_2,variable_3):\n",
    "    matriz = np.zeros([len(variable_1)*len(variable_2)*len(variable_3),3])\n",
    "    columna_1 = []\n",
    "    for i in range(len(variable_1)):\n",
    "        for j in range(len(variable_2)):\n",
    "            for k in range(len(variable_3)):\n",
    "                columna_1.append(variable_1[i])\n",
    "\n",
    "    columna_2 = []\n",
    "    for i in range(len(variable_1)):\n",
    "        for j in range(len(variable_2)):\n",
    "            for k in range(len(variable_3)):\n",
    "                columna_2.append(variable_2[j])\n",
    "\n",
    "    columna_3 = []\n",
    "    for i in range(len(variable_1)):\n",
    "        for j in range(len(variable_2)):\n",
    "            for k in range(len(variable_3)):\n",
    "                columna_3.append(variable_3[k])  \n",
    "                \n",
    "    matriz[:,0] = columna_1\n",
    "    matriz[:,1] = columna_2\n",
    "    matriz[:,2] = columna_3   \n",
    "    \n",
    "    return matriz"
   ]
  },
  {
   "cell_type": "code",
   "execution_count": 3,
   "id": "cf496fe7-6463-4af9-8ba3-b2ec2ed0a626",
   "metadata": {},
   "outputs": [
    {
     "data": {
      "text/plain": [
       "<AxesSubplot:>"
      ]
     },
     "execution_count": 3,
     "metadata": {},
     "output_type": "execute_result"
    },
    {
     "data": {
      "image/png": "[encoded data removed]",
      "text/plain": [
       "<Figure size 640x480 with 2 Axes>"
      ]
     },
     "metadata": {},
     "output_type": "display_data"
    }
   ],
   "source": [
    "matriz = tres_columnas([1,2,3,4], [5,6,7], [8,9])\n",
    "sns.heatmap(pd.DataFrame(matriz).corr())"
   ]
  },
  {
   "cell_type": "code",
   "execution_count": null,
   "id": "bdc750ba-f521-48c4-a9f6-68a4c03b753b",
   "metadata": {},
   "outputs": [],
   "source": []
  }
 ],
 "metadata": {
  "kernelspec": {
   "display_name": "Python 3 (ipykernel)",
   "language": "python",
   "name": "python3"
  },
  "language_info": {
   "codemirror_mode": {
    "name": "ipython",
    "version": 3
   },
   "file_extension": ".py",
   "mimetype": "text/x-python",
   "name": "python",
   "nbconvert_exporter": "python",
   "pygments_lexer": "ipython3",
   "version": "3.10.6"
  }
 },
 "nbformat": 4,
 "nbformat_minor": 5
}
